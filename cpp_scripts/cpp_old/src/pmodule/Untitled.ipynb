{
 "cells": [
  {
   "cell_type": "code",
   "execution_count": 1,
   "metadata": {},
   "outputs": [],
   "source": [
    "import numpy as np\n",
    "import pforest as pf\n",
    "import scripts.hg as hg"
   ]
  },
  {
   "cell_type": "code",
   "execution_count": 2,
   "metadata": {},
   "outputs": [],
   "source": [
    "P = pf.PForest(0.1, 3)"
   ]
  },
  {
   "cell_type": "code",
   "execution_count": 3,
   "metadata": {},
   "outputs": [],
   "source": [
    "B = np.arange(1000)"
   ]
  },
  {
   "cell_type": "code",
   "execution_count": 4,
   "metadata": {},
   "outputs": [
    {
     "data": {
      "text/plain": [
       "0.1"
      ]
     },
     "execution_count": 4,
     "metadata": {},
     "output_type": "execute_result"
    }
   ],
   "source": [
    "P.get_epsilon()"
   ]
  },
  {
   "cell_type": "code",
   "execution_count": 5,
   "metadata": {},
   "outputs": [],
   "source": [
    "B = np.array(B, dtype = 'double')"
   ]
  },
  {
   "cell_type": "code",
   "execution_count": 6,
   "metadata": {},
   "outputs": [
    {
     "data": {
      "text/plain": [
       "1"
      ]
     },
     "execution_count": 6,
     "metadata": {},
     "output_type": "execute_result"
    }
   ],
   "source": [
    "P.compute_histogram(B)"
   ]
  },
  {
   "cell_type": "code",
   "execution_count": 7,
   "metadata": {},
   "outputs": [
    {
     "data": {
      "text/plain": [
       "0.1"
      ]
     },
     "execution_count": 7,
     "metadata": {},
     "output_type": "execute_result"
    }
   ],
   "source": [
    "P.get_epsilon()"
   ]
  },
  {
   "cell_type": "code",
   "execution_count": 8,
   "metadata": {},
   "outputs": [],
   "source": [
    "from scripts.forest import Forest"
   ]
  },
  {
   "cell_type": "code",
   "execution_count": 10,
   "metadata": {},
   "outputs": [],
   "source": [
    "C = np.arange(10)"
   ]
  },
  {
   "cell_type": "code",
   "execution_count": 11,
   "metadata": {},
   "outputs": [
    {
     "data": {
      "text/plain": [
       "array([0, 1, 2, 3, 4, 5, 6, 7, 8, 9])"
      ]
     },
     "execution_count": 11,
     "metadata": {},
     "output_type": "execute_result"
    }
   ],
   "source": [
    "C"
   ]
  },
  {
   "cell_type": "code",
   "execution_count": 14,
   "metadata": {},
   "outputs": [
    {
     "data": {
      "text/plain": [
       "1"
      ]
     },
     "execution_count": 14,
     "metadata": {},
     "output_type": "execute_result"
    }
   ],
   "source": [
    "P.compute_histogram(C)"
   ]
  },
  {
   "cell_type": "code",
   "execution_count": 15,
   "metadata": {},
   "outputs": [],
   "source": [
    "C = np.array(C, dtype = 'double')"
   ]
  },
  {
   "cell_type": "code",
   "execution_count": 16,
   "metadata": {},
   "outputs": [],
   "source": [
    "kwargs = {'max_depth': 20, 'n_trees':20,  'max_samples': 100, 'max_buckets': 2, 'epsilon': 0.1, 'sample_axis': 1, 'threshold': 0}\n",
    "forest = Forest(**kwargs)"
   ]
  },
  {
   "cell_type": "code",
   "execution_count": 17,
   "metadata": {},
   "outputs": [],
   "source": [
    "A = np.ones((2,100))"
   ]
  },
  {
   "cell_type": "code",
   "execution_count": 18,
   "metadata": {},
   "outputs": [
    {
     "name": "stdout",
     "output_type": "stream",
     "text": [
      "No entropy in dimension : 0\n"
     ]
    }
   ],
   "source": [
    "forest.fit(A)"
   ]
  },
  {
   "cell_type": "code",
   "execution_count": 19,
   "metadata": {},
   "outputs": [],
   "source": [
    "B = np.ones(100)\n",
    "B[7] = 7"
   ]
  },
  {
   "cell_type": "code",
   "execution_count": 20,
   "metadata": {},
   "outputs": [
    {
     "name": "stdout",
     "output_type": "stream",
     "text": [
      "No entropy in dimension : 0\n"
     ]
    }
   ],
   "source": [
    "forest.fit(A)"
   ]
  },
  {
   "cell_type": "code",
   "execution_count": null,
   "metadata": {},
   "outputs": [],
   "source": []
  },
  {
   "cell_type": "code",
   "execution_count": 39,
   "metadata": {},
   "outputs": [],
   "source": [
    "hist = hg.Histogram(B, np.ones(100),3, 0.1)"
   ]
  },
  {
   "cell_type": "code",
   "execution_count": 40,
   "metadata": {},
   "outputs": [
    {
     "data": {
      "text/plain": [
       "array([  7.,   7.,   7.,   7.,   7.,   7.,   7.,  31.,   7.,   7.,   7.,\n",
       "         7.,   7.,   7.,   7.,   7.,   7.,   7.,   7.,   7.,   7.,   7.,\n",
       "         7.,   7.,   7.,   7.,   7.,   7.,   7.,   7.,   7.,   7.,   7.,\n",
       "         7.,   7.,   7.,   7.,   7.,   7.,   7.,   7.,   7.,   7.,   7.,\n",
       "         7.,   7.,   7.,   7.,   7.,   7.,   7., 401., 401.,   7.,   7.,\n",
       "         7.,   7.,   7.,   7.,   7.,   7.,   7.,   7.,   7.,   7.,   7.,\n",
       "         7.,   7.,   7.,   7.,   7.,   7.,   7.,   7.,   7.,   7.,   7.,\n",
       "         7.,   7.,   7.,   7.,   7.,   7.,   7.,   7.,   7.,   7.,   7.,\n",
       "         7.,   7.,   7.,   7.,   7.,   7.,   7.,   7.,   7.,   7.,   7.,\n",
       "         7.])"
      ]
     },
     "execution_count": 40,
     "metadata": {},
     "output_type": "execute_result"
    }
   ],
   "source": [
    "hist.val"
   ]
  },
  {
   "cell_type": "code",
   "execution_count": 41,
   "metadata": {},
   "outputs": [
    {
     "name": "stdout",
     "output_type": "stream",
     "text": [
      "Level 0: (0, 6): 0.0,  (0, 25): 553.8461538461538,  (0, 50): 564.705882352941,  (0, 51): 152451.92307692306,  (0, 99): 304454.56, \n",
      "Level 1: (7, 7): 0.0,  (7, 8): 288.0,  (7, 9): 384.0,  (7, 11): 460.79999999999995,  (7, 18): 528.0,  (51, 52): 564.7058823529514,  (51, 53): 104055.37254901961,  (51, 54): 155800.70588235295,  (51, 55): 186847.90588235296,  (51, 57): 222330.42016806724,  (51, 61): 254587.25133689842,  (51, 74): 285164.03921568627,  (51, 99): 298364.3793517407, \n",
      "Level 2: (8, 50): 0.0,  (53, 99): 564.7058823529514, \n",
      "\n",
      "[0]\n",
      "[ 0 51]\n",
      "Best Buckets: \n",
      "(3, 0.9981451882922925, array([51, 53]))\n"
     ]
    }
   ],
   "source": [
    "hist.test()"
   ]
  },
  {
   "cell_type": "code",
   "execution_count": 42,
   "metadata": {},
   "outputs": [
    {
     "data": {
      "text/plain": [
       "1"
      ]
     },
     "execution_count": 42,
     "metadata": {},
     "output_type": "execute_result"
    }
   ],
   "source": [
    "P.compute_histogram(B)"
   ]
  },
  {
   "cell_type": "code",
   "execution_count": 37,
   "metadata": {},
   "outputs": [],
   "source": [
    "B  = B+B"
   ]
  },
  {
   "cell_type": "code",
   "execution_count": 38,
   "metadata": {},
   "outputs": [],
   "source": [
    "B = B + 1"
   ]
  },
  {
   "cell_type": "code",
   "execution_count": null,
   "metadata": {},
   "outputs": [],
   "source": [
    "print(B)"
   ]
  },
  {
   "cell_type": "code",
   "execution_count": 32,
   "metadata": {},
   "outputs": [],
   "source": [
    "B[52] = 200"
   ]
  },
  {
   "cell_type": "code",
   "execution_count": null,
   "metadata": {},
   "outputs": [],
   "source": []
  }
 ],
 "metadata": {
  "kernelspec": {
   "display_name": "Python 3",
   "language": "python",
   "name": "python3"
  },
  "language_info": {
   "codemirror_mode": {
    "name": "ipython",
    "version": 3
   },
   "file_extension": ".py",
   "mimetype": "text/x-python",
   "name": "python",
   "nbconvert_exporter": "python",
   "pygments_lexer": "ipython3",
   "version": "3.8.5"
  }
 },
 "nbformat": 4,
 "nbformat_minor": 4
}
